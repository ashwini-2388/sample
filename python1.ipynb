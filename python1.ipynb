{
  "nbformat": 4,
  "nbformat_minor": 0,
  "metadata": {
    "colab": {
      "provenance": [],
      "authorship_tag": "ABX9TyNUlBjvJCTobvyyDZRJ5a5V",
      "include_colab_link": true
    },
    "kernelspec": {
      "name": "python3",
      "display_name": "Python 3"
    },
    "language_info": {
      "name": "python"
    }
  },
  "cells": [
    {
      "cell_type": "markdown",
      "metadata": {
        "id": "view-in-github",
        "colab_type": "text"
      },
      "source": [
        "<a href=\"https://colab.research.google.com/github/ashwini-2388/sample/blob/main/python1.ipynb\" target=\"_parent\"><img src=\"https://colab.research.google.com/assets/colab-badge.svg\" alt=\"Open In Colab\"/></a>"
      ]
    },
    {
      "cell_type": "code",
      "execution_count": 1,
      "metadata": {
        "colab": {
          "base_uri": "https://localhost:8080/"
        },
        "id": "j9FUlr4NhAI8",
        "outputId": "5dc16d7b-937d-464c-fa97-bb00e1f99d38"
      },
      "outputs": [
        {
          "output_type": "stream",
          "name": "stdout",
          "text": [
            "Hello World\n"
          ]
        }
      ],
      "source": [
        "#\n",
        "\"\"\n",
        "print(\"Hello World\")\n"
      ]
    },
    {
      "cell_type": "markdown",
      "source": [
        "Primitive data type\n"
      ],
      "metadata": {
        "id": "etqLzKq0jB-L"
      }
    },
    {
      "cell_type": "code",
      "source": [
        "#Integers\n",
        "val_1=100\n",
        "# String data type\n",
        "val_2='This is string data type'\n",
        "val_3=\"This is also string data types\"\n",
        "Val_4=100.93\n",
        "print(type(val_1))\n",
        "print(val_1)\n",
        "\n"
      ],
      "metadata": {
        "colab": {
          "base_uri": "https://localhost:8080/"
        },
        "id": "yOEJX2pkjFef",
        "outputId": "14029915-6da7-4a68-b235-f9d2c027543a"
      },
      "execution_count": 5,
      "outputs": [
        {
          "output_type": "stream",
          "name": "stdout",
          "text": [
            "<class 'int'>\n",
            "100\n"
          ]
        }
      ]
    },
    {
      "cell_type": "markdown",
      "source": [
        "Boolean\n"
      ],
      "metadata": {
        "id": "G5RPO8ZblEfd"
      }
    },
    {
      "cell_type": "code",
      "source": [
        "val_5=True\n",
        "val_6=False\n",
        "val_7=23+56j\n",
        "val_8=66j\n",
        "\n",
        "print(val_5,val_6)\n",
        "print(type(val_7))"
      ],
      "metadata": {
        "colab": {
          "base_uri": "https://localhost:8080/"
        },
        "id": "-xat4-wplGni",
        "outputId": "a815f192-e678-49ee-c98d-3a2bb3821218"
      },
      "execution_count": 6,
      "outputs": [
        {
          "output_type": "stream",
          "name": "stdout",
          "text": [
            "True False\n"
          ]
        }
      ]
    }
  ]
}